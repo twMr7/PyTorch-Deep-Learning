{
 "cells": [
  {
   "cell_type": "markdown",
   "id": "0d88dbf8",
   "metadata": {},
   "source": [
    "<p style=\"text-align:center\">\n",
    "    <a href=\"https://nbviewer.jupyter.org/github/twMr7/PyTorch-Deep-Learning/blob/master/04-Classic_CNN_Backbones_with_Lightning.ipynb\">\n",
    "        Open In Jupyter nbviewer\n",
    "        <img style=\"float: center;\" src=\"https://nbviewer.jupyter.org/static/img/nav_logo.svg\" width=\"120\" />\n",
    "    </a>\n",
    "</p>"
   ]
  },
  {
   "cell_type": "markdown",
   "id": "2fde6741",
   "metadata": {},
   "source": [
    "[![Open In Colab](https://colab.research.google.com/assets/colab-badge.svg)](https://colab.research.google.com/github/twMr7/PyTorch-Deep-Learning/blob/master/04-Classic_CNN_Backbones_with_Lightning.ipynb)\n",
    "\n",
    "# 4. Classic CNN Backbones with Lightning\n",
    "\n",
    "自從 2012 年 AlexNet 引起新一波人工智慧的熱潮，短短幾年之間，陸續又出現了幾個創新的 CNN 的架構，這些架構優異的物件辨識能力又再度樹立了新的典範。\n",
    "\n",
    "+ [**4.1 AlexNet**](#alex-net)\n",
    "\n",
    "+ [**4.2 Inception (GoogLeNet)**](#google-net)\n",
    "\n",
    "+ [**4.3 VGG**](#vgg-net)\n",
    "\n",
    "+ [**4.4 ResNet**](#res-net)\n",
    "\n",
    "+ [**4.5 DenseNet**](#dense-net)\n",
    "\n",
    "+ [**參考資料**](#references)\n"
   ]
  },
  {
   "cell_type": "markdown",
   "id": "9e1c49e9",
   "metadata": {},
   "source": [
    "<a id=\"alex-net\"></a>\n",
    "\n",
    "## 4.1 AlexNet\n",
    "\n",
    "(TODO)"
   ]
  },
  {
   "cell_type": "markdown",
   "id": "91e3d498",
   "metadata": {},
   "source": [
    "<a id=\"google-net\"></a>\n",
    "\n",
    "## 4.2 Inception (GoogLeNet)\n",
    "\n",
    "(TODO)"
   ]
  },
  {
   "cell_type": "markdown",
   "id": "aea824a7",
   "metadata": {},
   "source": [
    "<a id=\"vgg-net\"></a>\n",
    "\n",
    "## 4.3 VGG\n",
    "\n",
    "(TODO)"
   ]
  },
  {
   "cell_type": "markdown",
   "id": "7215b0b9",
   "metadata": {},
   "source": [
    "<a id=\"res-net\"></a>\n",
    "\n",
    "## 4.4 ResNet\n",
    "\n",
    "(TODO)"
   ]
  },
  {
   "cell_type": "markdown",
   "id": "49b905f4",
   "metadata": {},
   "source": [
    "<a id=\"dense-net\"></a>\n",
    "\n",
    "## 4.5 DenseNet\n",
    "\n",
    "(TODO)"
   ]
  },
  {
   "cell_type": "markdown",
   "id": "c8bfe08f",
   "metadata": {},
   "source": [
    "---\n",
    "\n",
    "<a id=\"references\"></a>\n",
    "\n",
    "## References:\n",
    "\n",
    "- [1]. Kevin P. Murphy. \"*Probabilistic Machine Learning: An introduction*\". MIT press, 2021. [[link]](https://probml.github.io/pml-book/book1.html)\n",
    "- [2]. Aston Zhang, Zachary Lipton, Mu Li, and Alexander Smola. \"*動手學深度學習（PyTorch版）*\", 2020. [[link]](https://tangshusen.me/Dive-into-DL-PyTorch)\n"
   ]
  },
  {
   "cell_type": "markdown",
   "id": "42a63be3",
   "metadata": {},
   "source": [
    "---\n",
    "\n",
    "**June, 2021**\n",
    "\n",
    "***James Chang***"
   ]
  }
 ],
 "metadata": {
  "kernelspec": {
   "display_name": "Python 3",
   "language": "python",
   "name": "python3"
  },
  "language_info": {
   "codemirror_mode": {
    "name": "ipython",
    "version": 3
   },
   "file_extension": ".py",
   "mimetype": "text/x-python",
   "name": "python",
   "nbconvert_exporter": "python",
   "pygments_lexer": "ipython3",
   "version": "3.8.8"
  }
 },
 "nbformat": 4,
 "nbformat_minor": 5
}
